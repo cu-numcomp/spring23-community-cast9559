{
 "cells": [
  {
   "cell_type": "markdown",
   "id": "d1d37949-83be-45e8-9816-40bfec16b1aa",
   "metadata": {},
   "source": [
    "### Presentation ###"
   ]
  },
  {
   "cell_type": "markdown",
   "id": "57d7f159-12b1-4323-95c6-17327a2ce29c",
   "metadata": {},
   "source": [
    "FILM is an high quality frame interpolation neural network. They use a single network approach with no other pre trained models. This model can only be trained from frame triplets. Essentially what is happening is that they are using frame interpolation to transform two similar looking photos into a footage that looks like a video. Once inside and working on this there are a couple of different options for what can be developed. When putting in two photos if you want to see if it will actually put those pictures together well you can use a midpoint function. Unlike the frame by frame function which takes over a hundred different pictures each one changing a small amount of frames in the photo, the midpoint function just prints out one picture which takes significantly less time."
   ]
  },
  {
   "cell_type": "markdown",
   "id": "dd6983a1-3e14-4f46-9438-52461e870137",
   "metadata": {},
   "source": [
    "### Video ###"
   ]
  },
  {
   "cell_type": "markdown",
   "id": "0dacc6db-4969-45ea-a50e-56ff2119faf1",
   "metadata": {
    "tags": []
   },
   "source": [
    "I have attached a gif of the video that I created between two pictures. The name of the file is interpolated_AdobeExpress.gif"
   ]
  },
  {
   "cell_type": "markdown",
   "id": "a20671ca-7467-4b80-b178-2c420f5b371a",
   "metadata": {},
   "source": [
    "### Questions ###"
   ]
  },
  {
   "cell_type": "markdown",
   "id": "fadbe8b1-8634-460a-ab76-8753f9df7eff",
   "metadata": {},
   "source": [
    "Some questions I had about this software mostly pertained to how it works. Despite looking at it for a bit I still feel a rudimentary knowledge of how it works. Therefore I would most likely want to ask what type of interpolation is being used?"
   ]
  },
  {
   "cell_type": "markdown",
   "id": "2e9ff65b-c01d-4f64-bcc2-9f43ec707260",
   "metadata": {},
   "source": [
    "### Experiment ###"
   ]
  },
  {
   "cell_type": "markdown",
   "id": "9d5ffb1c-56e6-4f42-8a12-0570543c2627",
   "metadata": {},
   "source": [
    "Similar to above I think that regardless of the type of interpolation being used it would be interesting to see if someone changed the interpolation being used to a different one. Changing these interpolations most likely wouldn't mess up the entire system, but it may decrease quality of performance. This may be a difficult project to accomplish simply because it would certainly take a long time to understand the code enough to implement the interpolation changes."
   ]
  },
  {
   "cell_type": "code",
   "execution_count": null,
   "id": "2658840f-82dc-4037-af56-5b3232ad903a",
   "metadata": {},
   "outputs": [],
   "source": []
  }
 ],
 "metadata": {
  "kernelspec": {
   "display_name": "Python 3 (ipykernel)",
   "language": "python",
   "name": "python3"
  },
  "language_info": {
   "codemirror_mode": {
    "name": "ipython",
    "version": 3
   },
   "file_extension": ".py",
   "mimetype": "text/x-python",
   "name": "python",
   "nbconvert_exporter": "python",
   "pygments_lexer": "ipython3",
   "version": "3.10.8"
  }
 },
 "nbformat": 4,
 "nbformat_minor": 5
}
